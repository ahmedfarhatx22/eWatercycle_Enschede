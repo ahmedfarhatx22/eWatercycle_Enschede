{
 "cells": [
  {
   "cell_type": "markdown",
   "metadata": {},
   "source": [
    "#  Getting started\n",
    "\n"
   ]
  },
  {
   "cell_type": "markdown",
   "metadata": {},
   "source": [
    "<span style=\"font-size: 32px; font-weight: bold;\"> **Requirements:**</span>\n"
   ]
  },
  {
   "cell_type": "markdown",
   "metadata": {},
   "source": [
    "## Computing rescources"
   ]
  },
  {
   "cell_type": "markdown",
   "metadata": {},
   "source": [
    "To run the STEMMUS-SCOPE model, you can use one of the following computing resources:\n",
    "\n",
    "- [CRIB](https://www.itc.nl/about-itc/centres-of-expertise/big-geodata/) is the ITC Geospatial Computing Platform.\n",
    "- [Snellius](https://servicedesk.surfsara.nl/wiki/display/WIKI/Snellius) is the Dutch National supercomputer hosted at SURF.\n",
    "\n",
    "\n",
    "Otherwise, you can run the model on your local device if you have the correct set of software and data."
   ]
  },
  {
   "cell_type": "markdown",
   "metadata": {},
   "source": [
    "## Software"
   ]
  },
  {
   "cell_type": "markdown",
   "metadata": {},
   "source": [
    "To run the STEMMUS-SCOPE model, you need one of the following:\n",
    "\n",
    "- [MATLAB](https://nl.mathworks.com/products/matlab.html)\n",
    "- [MATLAB Runtime](https://nl.mathworks.com/products/compiler/matlab-runtime.html)on a Unix-like system\n",
    "- [Octave](https://octave.org/)\n",
    "- [Docker](https://www.docker.com/)"
   ]
  },
  {
   "cell_type": "markdown",
   "metadata": {},
   "source": [
    "## Model source code"
   ]
  },
  {
   "cell_type": "markdown",
   "metadata": {},
   "source": [
    "The source code of STEMMUS_SCOPE can be found in the GitHub repository https://github.com/EcoExtreML/STEMMUS_SCOPE under the folder src. Download the latest version of the model from the repository or get it using git clone in a terminal:\n",
    "\n",
    "`git clone https://github.com/EcoExtreML/STEMMUS_SCOPE.git`"
   ]
  },
  {
   "cell_type": "markdown",
   "metadata": {},
   "source": [
    "## Data"
   ]
  },
  {
   "cell_type": "markdown",
   "metadata": {},
   "source": [
    "To run the STEMMUS-SCOPE model, you need to have input data either from in-situ measurements or from remote sensing. Before running the model, you need to prepare input data and a configuration file for **one site/location**. This can be done using [setup()](https://pystemmusscope.readthedocs.io/en/latest/reference/#PyStemmusScope.stemmus_scope.StemmusScope.setup) function in the python package [PyStemmusScope](https://pystemmusscope.readthedocs.io/en/latest/). See example datasets below:"
   ]
  },
  {
   "cell_type": "markdown",
   "metadata": {},
   "source": [
    "```{dropdown} Example dataset on Zenodo\n",
    "A pre-processed example dataset for one site can be found on Zenodo [here](https://zenodo.org/records/10566827).\n",
    "\n",
    "```"
   ]
  },
  {
   "cell_type": "markdown",
   "metadata": {},
   "source": [
    "```{dropdown} Data on CRIB\n",
    "[CRIB](https://www.itc.nl/about-itc/centres-of-expertise/big-geodata/) is the ITC Geospatial Computing Platform.\n",
    "\n",
    "To run the STEMMUS-SCOPE model, you need to have input data either from in-situ measurements or from remote sensing. Plumber2 site data are avialable under project directory on CRIB. This folder includes:\n",
    "\n",
    "- Plumber2_data: the forcing/driving data provided by PLUMBER2.\n",
    "- SoilProperty: the soil texture data and soil hydraulic parameters.\n",
    "\n",
    "In addition to site data, the remote sensing data are available on CRIB in `global_data` folder.\n",
    "\n",
    "Data required by the model are in a folder named \"input\". Below the directory explanations are from [SCOPE documentation](https://scope-model.readthedocs.io/en/latest/directories.html):\n",
    "\n",
    "- directional: the observer’s zenith and azimuth angles.(only used for multi-angle simulations (if the option ‘directional’ is switched on in parameters).\n",
    "- fluspect_parameters: absorption spectra of different leaf components are provided, according to PROSPECT 3.1, as well as Fluspect input: standard spectra for PSI and PSII.\n",
    "- leafangles: example leaf inclination distribution data are provided.\n",
    "- radiationdata: RTMo.m calculates spectra based on MODTRAN5 outputs (T-18 system).Note that in the input data (files as well as the spreadsheet), the broadband input radiation may be provided. SCOPE linearly scales the input spectra of the optical and the thermal domain in such a way that the spectrally integrated input shortwave and long-wave radiation matches with the measured values.\n",
    "- soil_spectra: the soil spectrum is provided. Note that it is also possible to simulate a soil reflectance spectrum with the BSM model. In that case, the values for the BSM model parameters are taken from the input data, and the archived spectra in this folder are not used.\n",
    "- input_data.xlsx: the input to SCOPE model is provided. It provides parameter inputs for PROSPECT, leaf_biochemical, fluorescence, soil, canopy, aerodynamic, angles, photosynthetic temperature dependence functional parameters, etc.\n",
    "- input_soilLayThick.csv (optional): A file to change the discretization of the soil layers of the STEMMUS model. An example of this file is in example_data folder. This file (if needed) should be copied into the InputPath folder. If this file is used, it will override the default settings of the soil layers. The file has three columns: 1) layer number, 2) layer thickness, and 3) maximum root depth. The user is free to change the values of the three columns. Also, the number of rows determines the number of the soil layers and the total thickness of the soil column (sum of soil layer thickness).\n",
    "\n",
    "```"
   ]
  },
  {
   "cell_type": "markdown",
   "metadata": {},
   "source": [
    "```{dropdown} Data on Snellius\n",
    "[Snellius](https://servicedesk.surfsara.nl/wiki/display/WIKI/Snellius) is the Dutch National supercomputer hosted at SURF.\n",
    "\n",
    "To run the STEMMUS-SCOPE model, you need to have input data either from in-situ measurements or from remote sensing. Data required by the model are in a folder named \"data\" in the project directory `einf2480` on Snellius. This directory includes:\n",
    "\n",
    "- forcing/plumber2_data: the forcing/driving data provided by PLUMBER2.\n",
    "- model_parameters/soil_property: the soil texture data and soil hydraulic parameters.\n",
    "- model_parameters/vegetation_property:\n",
    "- directional\n",
    "- fluspect_parameters\n",
    "- leafangles\n",
    "- radiationdata\n",
    "- soil_spectra\n",
    "- input_data.xlsx\n",
    "- input_soilThick.csv (optional)\n",
    "- In addition to site data, the remote sensing data are available on Snellius in `global_data` folder.\n",
    "\n",
    "\n",
    "```"
   ]
  },
  {
   "cell_type": "markdown",
   "metadata": {},
   "source": [
    "## Configuration file"
   ]
  },
  {
   "cell_type": "markdown",
   "metadata": {},
   "source": [
    "The configuration file is a text file that sets the paths required by the model. The configuration file should contain the following information:"
   ]
  },
  {
   "cell_type": "markdown",
   "metadata": {},
   "source": [
    "`WorkDir=/path_to_working_directory/\n",
    "SoilPropertyPath=/path_to_soil_property_data/\n",
    "ForcingPath=/path_to_forcing_data/\n",
    "Location=AU-DaS\n",
    "directional=/path_to_directional_data/\n",
    "fluspect_parameters=/path_to_fluspect_parameters_data/\n",
    "leafangles=/path_to_leafangles_data/\n",
    "radiationdata=/path_to_radiation_data/\n",
    "soil_spectrum=/path_to_soil_spectra_data/\n",
    "InitialConditionPath=/path_to_soil_initial_condition_data/\n",
    "input_data=/path_to_input_data.xlsx_file/\n",
    "StartTime=2001-01-01T00:00\n",
    "EndTime=2001-01-02T00:00\n",
    "InputPath=/path_to_model_input_folder/\n",
    "OutputPath=/path_to_model_output_folder/`"
   ]
  },
  {
   "cell_type": "markdown",
   "metadata": {},
   "source": [
    "The configuration file could also contain the optional key `FullCSVfiles`. If `FullCSVfiles=0`, the model will **not** store some **large** binary files in csv format. The default value is `FullCSVfiles=1`. To know which files are stored in csv format, see the function `bin_to_csv()` in `src/+io` folder.\n",
    "\n",
    "`FullCSVfiles=0`\n",
    "\n",
    "See example configuration files below:"
   ]
  },
  {
   "cell_type": "markdown",
   "metadata": {},
   "source": [
    "```{dropdown} Example configuration file\n",
    "\n",
    "An example configuration file can be found [here](https://github.com/EcoExtreML/STEMMUS_SCOPE/blob/main/config_file_template.txt). If [setup()](https://pystemmusscope.readthedocs.io/en/latest/reference/#PyStemmusScope.stemmus_scope.StemmusScope.setup) function in the python package [PyStemmusScope](https://pystemmusscope.readthedocs.io/en/latest/) is used to prepare data, the model configuration file including `InputPath` and `OutputPath` and the data of **one site/location** will be generated automatically.\n",
    "\n",
    "```"
   ]
  },
  {
   "cell_type": "markdown",
   "metadata": {},
   "source": [
    "```{dropdown} Example configuration file on CRIB\n",
    "\n",
    "Config file: it is a text file that sets the paths **required** by the model. For example, see [config_file_crib.txt](https://github.com/EcoExtreML/STEMMUS_SCOPE/blob/main/config_file_crib.txt) or [config_file_crib_global.txt](https://pystemmusscope.readthedocs.io/en/latest/) in this repository. This file includes:\n",
    "\n",
    "- SoilPropertyPath: a path to soil texture data and soil hydraulic parameters.\n",
    "- InputPath: this is the working/running directory of the model and should include the data of `directional`, `fluspect_parameters`, `leafangles`, `radiationdata`, `soil_spectra`, and `input_data.xlsx`.\n",
    "- OutputPath: this is the base path to store outputs of the model. When the model runs, it creates `sitename_timestamped` directories under this path.\n",
    "- ForcingPath: a path to the forcing/driving data. I.e. the Plumber2 dataset.\n",
    "- Location: Location where the model should be run. Currently, the model runs at the site scale. For example, if we put `FI-Hyy` here, the model runs at the `FI-Hyy` site.\n",
    "- StartTime: The start time of the model, in the ISO 8601 format. For example: `2001-01-01T00:00`. Note that the time can only be defined in half hour increments. If you want the start time to be the first available data point of the forcing data, you can set StartTime to `NA`.\n",
    "EndTime: The end time of the model. Formatted the same way as the StartTime. For example: `2001-12-31T23:30`. If you want the end time to be the last available data point of the forcing data, you can set EndTime to `NA`.\n",
    "\n",
    "To edit the config file, open the file with a text editor and change the paths. The variable names e.g. `SoilPropertyPath` should not be changed. Also, note a `/` is required at the end of each line.\n",
    "\n",
    "As explained above, the \"InputPath\" directory of the model is considered as the working/running directory and should include some data required by the model. As seen in the config file, the \"InputPath\" is now set as same as the \"input\" folder. This means that the \"input\" folder is treated as the model's working/running directory. However, it is possible to create a different working/running directory and set the \"InputPath\" to it. Then, you should copy the required data i.e. `directional`, `fluspect_parameters`, `leafangles`, `radiationdata`, `soil_spectra`, and `input_data.xlsx` to the working/running directory.\n",
    "\n",
    "```"
   ]
  },
  {
   "cell_type": "markdown",
   "metadata": {},
   "source": [
    "```{dropdown} Example configuration file on Snellius\n",
    "\n",
    "Config file: it is a text file that sets the paths **required** by the model. For example, see [config_file_snellius.txt](https://github.com/EcoExtreML/STEMMUS_SCOPE/blob/main/run_model_on_snellius/config_file_snellius.txt) or [config_file_snellius_global.txt](https://github.com/EcoExtreML/STEMMUS_SCOPE/blob/main/run_model_on_snellius/config_file_snellius_global.txt) in this repository. This file includes:\n",
    "\n",
    "\n",
    "- SoilPropertyPath: a path to soil texture data and soil hydraulic parameters.\n",
    "- InputPath: this is the working/running directory of the model and should include the data of `directional`, `fluspect_parameters`, `leafangles`, `radiationdata`, `soil_spectra`, and `input_data.xlsx`.\n",
    "- OutputPath: this is the base path to store outputs of the model. When the model runs, it creates `sitename_timestamped` directories under this path.\n",
    "- ForcingPath: a path to the forcing/driving data. I.e. the Plumber2 dataset.\n",
    "- Location: Location where the model should be run. Currently, the model runs at the site scale. For example, if we put `FI-Hyy` here, the model runs at the `FI-Hyy` site.\n",
    "- StartTime: The start time of the model, in the ISO 8601 format. For example: `2001-01-01T00:00`. Note that the time can only be defined in half hour increments. If you want the start time to be the first available data point of the forcing data, you can set StartTime to `NA`.\n",
    "EndTime: The end time of the model. Formatted the same way as the StartTime. For example: `2001-12-31T23:30`. If you want the end time to be the last available data point of the forcing data, you can set EndTime to `NA`.\n",
    "\n",
    "To edit the config file, open the file with a text editor and change the paths. The `InputPath` and `OutputPath` are user-defined directories, make sure they exist and you have right permissions. The variable name e.g. `SoilPropertyPath` should not be changed. Also, note a `/` is required at the end of each line.\n",
    "\n",
    "As explained above, the \"InputPath\" directory of the model is considered as the working/running directory and should include some data required by the model. As seen in the config file, the \"InputPath\" is now set to an \"input\" folder under \"scratch-shared\" directory. This means that the \"input\" folder is treated as the model's working/running directory. However, it is possible to create a different working/running directory and set the \"InputPath\" to it. Then, you should copy the required data i.e. `directional`, `fluspect_parameters`, `leafangles`, `radiationdata`, `soil_spectra`, and `input_data.xlsx` to the working/running directory. For example: `cp -r /projects/0/einf2480/model_parameters/vegetation_property/* /scratch-shared/EcoExtreML/STEMMUS_SCOPE/input/<your_work_dir>`\n",
    "\n",
    "```"
   ]
  },
  {
   "cell_type": "markdown",
   "metadata": {},
   "source": []
  }
 ],
 "metadata": {
  "language_info": {
   "name": "python"
  }
 },
 "nbformat": 4,
 "nbformat_minor": 2
}
