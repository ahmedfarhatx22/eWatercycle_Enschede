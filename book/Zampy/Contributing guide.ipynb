{
 "cells": [
  {
   "cell_type": "markdown",
   "metadata": {},
   "source": [
    "# Contributing guide"
   ]
  },
  {
   "cell_type": "markdown",
   "metadata": {},
   "source": [
    "\n",
    "We welcome any kind of contribution to `zampy`, from simple comments or questions to full-fledged pull requests. Please read and follow our [Code of Conduct](https://zampy.readthedocs.io/en/latest/CODE_OF_CONDUCT/).\n",
    "\n",
    "A contribution can be one of the following cases:\n",
    "\n",
    "1. You have a question.\n",
    "\n",
    "2. You think you may have found a bug (including unexpected behavior).\n",
    "\n",
    "3. You want to make some kind of change to the code base (e.g., to fix a bug, to add a new feature, to update documentation).\n",
    "\n",
    "4. You want to make a new release of the code base.\n",
    "\n",
    "The sections below outline the steps in each case.\n",
    "\n",
    "## You have a question\n",
    "\n",
    "1. Use the search functionality [here](https://github.com/your-repo/issues) to see if someone already filed the same issue.\n",
    "2. If your issue search did not yield any relevant results, create a new issue.\n",
    "3. Apply the \"Question\" label; apply other labels when relevant.\n",
    "\n",
    "## You think you may have found a bug\n",
    "\n",
    "1. Use the search functionality [here](https://github.com/your-repo/issues) to see if someone already filed the same issue.\n",
    "2. If your issue search did not yield any relevant results, create a new issue, providing enough information for the community to understand the cause and context of the problem. Depending on the issue, you may want to include:\n",
    "   - The SHA hashcode of the commit that is causing your problem.\n",
    "   - Identifying information (name and version number) for dependencies you're using.\n",
    "   - Information about the operating system.\n",
    "3. Apply relevant labels to the newly created issue.\n",
    "\n",
    "## You want to make some kind of change to the code base\n",
    "\n",
    "If you want to make changes to the code base, such as adding more datasets to the collection or supporting more conventions, please follow these steps:\n",
    "\n",
    "1. **Announce your plan** to the community before you start working. This announcement should be in the form of a (new) issue.\n",
    "   \n",
    "2. **Wait until consensus is reached** about your idea being a good idea.\n",
    "   \n",
    "3. If needed, **fork the repository** to your own GitHub profile and create your own feature branch off of the latest master commit. While working on your feature branch, make sure to stay up to date with the master branch by pulling in changes, possibly from the 'upstream' repository.\n",
    "   \n",
    "4. Ensure the existing tests still work by running `pytest`.\n",
    "   \n",
    "5. Add your own tests (if necessary).\n",
    "   \n",
    "6. Update or expand the documentation.\n",
    "   \n",
    "7. Update the `CHANGELOG.md` file with your changes.\n",
    "   \n",
    "8. Push your feature branch to (your fork of) the `zampy` repository on GitHub.\n",
    "   \n",
    "9.  Create the pull request.\n",
    "\n",
    "In case you feel like you've made a valuable contribution but don't know how to write or run tests for it, or how to generate the documentation, don't let this discourage you from making the pull request; we can help you! Just go ahead and submit the pull request, but keep in mind that you might be asked to append additional commits to your pull request.\n"
   ]
  }
 ],
 "metadata": {
  "language_info": {
   "name": "python"
  }
 },
 "nbformat": 4,
 "nbformat_minor": 2
}
