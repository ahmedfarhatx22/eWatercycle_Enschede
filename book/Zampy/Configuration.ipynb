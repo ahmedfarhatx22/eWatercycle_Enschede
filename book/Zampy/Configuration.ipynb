{
 "cells": [
  {
   "cell_type": "markdown",
   "metadata": {},
   "source": [
    "# Configuration"
   ]
  },
  {
   "cell_type": "markdown",
   "metadata": {},
   "source": [
    "## Installation\n",
    "\n",
    "Zampy can be installed by doing:"
   ]
  },
  {
   "cell_type": "code",
   "execution_count": null,
   "metadata": {
    "vscode": {
     "languageId": "plaintext"
    }
   },
   "outputs": [],
   "source": [
    "python3 -m pip install zampy"
   ]
  },
  {
   "cell_type": "markdown",
   "metadata": {},
   "source": [
    "To install the in-development version from the GitHub repository, do:"
   ]
  },
  {
   "cell_type": "code",
   "execution_count": null,
   "metadata": {
    "vscode": {
     "languageId": "plaintext"
    }
   },
   "outputs": [],
   "source": [
    "python3 -m pip install git+https://github.com/EcoExtreML/zampy.git"
   ]
  },
  {
   "cell_type": "markdown",
   "metadata": {},
   "source": [
    "## Configuration\n",
    "\n",
    "`Zampy` needs to be configured with a simple configuration file.\n",
    "\n",
    "You need to create this file under your user home directory:\n",
    "\n",
    "`~/.config/zampy/zampy_config.yml`\n",
    "\n",
    "The configuration file should contain the `working_directory`, for instance:"
   ]
  },
  {
   "cell_type": "code",
   "execution_count": null,
   "metadata": {
    "vscode": {
     "languageId": "plaintext"
    }
   },
   "outputs": [],
   "source": [
    "working_directory: /path_to_a_working_directory/  #for example: /home/bart/Zampy"
   ]
  },
  {
   "cell_type": "markdown",
   "metadata": {},
   "source": [
    "The old Climate Data Store (CDS) is shut down on 3 September 2024. For more information see: [the-new-climate-data-store-beta](https://forum.ecmwf.int/t/the-new-climate-data-store-beta-cds-beta-is-now-live/3315). To use the new CDS/ADS, you need to have an ECMWF account, your existing CDS/ADS credentials does not work.\n",
    "\n",
    "If you need access to data on CDS or ADS server, you should add your CDS/ADS credentials to `zampy_config.yml`. To find your key, go to [CDS how to api](https://cds.climate.copernicus.eu/how-to-api), or [ADS how to api](https://ads.atmosphere.copernicus.eu/how-to-api). You can skip the steps related to .cdsapirc and simply add the key to zampy_config.yml:"
   ]
  },
  {
   "cell_type": "code",
   "execution_count": null,
   "metadata": {
    "vscode": {
     "languageId": "plaintext"
    }
   },
   "outputs": [],
   "source": [
    "cdsapi:\n",
    "  url:  # for example https://cds.climate.copernicus.eu/api\n",
    "  key:  # for example xhashd-232jcsha-dsaj429-cdjajd29319\n",
    "adsapi:\n",
    "  url:  # for example https://ads.atmosphere.copernicus.eu/api\n",
    "  key:  # for example xhashd-232jcsha-dsaj429-cdjajd29319"
   ]
  },
  {
   "cell_type": "markdown",
   "metadata": {},
   "source": [
    "## Instructions for CDS/ADS datasets\n",
    "\n",
    "To download the following datasets, users need access to CDS/ADS via `cdsapi/adsapi`: - CDS - ERA5 - ERA5 land - LAI - land cover - ADS - CAMS EGG4 (e.g. co2)\n",
    "\n",
    "**Agree to the Terms of Use on CDS/ADS**\n",
    "\n",
    "When downloading a dataset for the first time, it is **necessary to agree to the Terms of Use of every datasets that you intend to download**. This can only be done via the CDS/ADS website. When you try to download these datasets, you will be prompted to go to the terms of use and accept them."
   ]
  }
 ],
 "metadata": {
  "language_info": {
   "name": "python"
  }
 },
 "nbformat": 4,
 "nbformat_minor": 2
}
