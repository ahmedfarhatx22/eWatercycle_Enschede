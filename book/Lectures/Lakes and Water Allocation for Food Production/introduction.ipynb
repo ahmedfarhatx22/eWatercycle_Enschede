{
 "cells": [
  {
   "cell_type": "markdown",
   "metadata": {},
   "source": [
    "# Introduction to lakes and Water Allocation for Food Production"
   ]
  }
 ],
 "metadata": {
  "language_info": {
   "name": "python"
  }
 },
 "nbformat": 4,
 "nbformat_minor": 2
}
