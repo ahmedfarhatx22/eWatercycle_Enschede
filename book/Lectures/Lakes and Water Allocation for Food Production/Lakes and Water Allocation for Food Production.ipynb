{
 "cells": [
  {
   "cell_type": "markdown",
   "metadata": {},
   "source": [
    "# Lakes and Water Allocation for Food Production"
   ]
  },
  {
   "cell_type": "markdown",
   "metadata": {},
   "source": []
  }
 ],
 "metadata": {
  "language_info": {
   "name": "python"
  }
 },
 "nbformat": 4,
 "nbformat_minor": 2
}
