{
 "cells": [
  {
   "cell_type": "markdown",
   "metadata": {},
   "source": [
    "#  Basic Model Interface"
   ]
  },
  {
   "cell_type": "markdown",
   "metadata": {},
   "source": [
    "The [Basic Model Interface](https://csdms.colorado.edu/wiki/BMI) is a standard way of communicating with models. PyStemmusScope implements the Basic Model Interface for STEMMUS_SCOPE. There are multiple ways to run the STEMMUS_SCOPE Basic Model Interface. For the model, we generated Matlab Compiler Runtime executable file (only available for x86 Linux). This requires installation of MCR. The other option is to use the Dockerized version of the executable, available on [here](https://ghcr.io/ecoextreml/stemmus_scope). For more information on each method, see the sections below."
   ]
  },
  {
   "cell_type": "markdown",
   "metadata": {},
   "source": [
    "## Installation and setup\n",
    "\n",
    "### Dockerized executable\n",
    "\n",
    "STEMMUS_SCOPE has a Docker image available. This allows you to run the executable file without having to install MCR. The Docker image is available at [here](https://ghcr.io/ecoextreml/stemmus_scope). The Docker image is created using the docker file [here](https://github.com/EcoExtreML/STEMMUS_SCOPE/blob/main/Dockerfile). To use the Docker image, use the DockerImage setting in the configuration file:\n",
    "\n",
    "`WorkDir=/home/username/tmp/stemmus_scope`\n",
    "\n",
    "`...`\n",
    "\n",
    "`DockerImage=ghcr.io/ecoextreml/stemmus_scope:1.6.2`\n",
    "\n",
    "It is best to add the version tag here too (`:1.6.2`), this way the BMI will warn you if the version might be incompatible. Note that the `docker` package for python is required. Install this with `pip install PyStemmusScope[docker]`. Additionally, [Docker](https://docs.docker.com/get-started/get-docker/) itself has to be installed.\n",
    "\n",
    "\n",
    "### Local executable file\n",
    "\n",
    "You can run the model using the executable file. It can be downloaded from the STEMMUS_SCOPE repository, [here](https://github.com/EcoExtreML/STEMMUS_SCOPE/tree/main/run_model_on_snellius/exe). To be able to run this executable, you need a Linux x86 system, along with Matlab Compiler Runtime R2023a. MCR is available [here](https://nl.mathworks.com/products/compiler/matlab-runtime.html). To use the local executable file, add the path to the executable file to the config file. E.g.:\n",
    "\n",
    "`WorkDir=/home/username/tmp/stemmus_scope`\n",
    "\n",
    "`...`\n",
    "\n",
    "`ExeFilePath=/path/to/executable/STEMMUS_SCOPE`\n",
    "\n",
    "Alternatively, if the environmental variable `STEMMUS_SCOPE` is configured, the BMI will use this if the ExeFilePath or DockerImage are not set in the configuration file.\n",
    "\n",
    "### Using the BMI\n",
    "\n",
    "A [notebook demonstration the use of the Basic Model Interface](https://pystemmusscope.readthedocs.io/en/latest/notebooks/BMI_demo/) is available. For more information on using BMI, see the [CSDMS website](https://csdms.colorado.edu/wiki/BMI).\n",
    "\n",
    "If you need access to other model variables that are not yet available in the BMI, please raise an issue on the [STEMMUS_SCOPE repository](https://github.com/EcoExtreML/STEMMUS_SCOPE/issues), or leave a comment if an issue is open already.\n",
    "\n",
    "### Using grpc4bmi\n",
    "\n",
    "A [Docker](https://github.com/ecoextreml/STEMMUS_SCOPE_Processing/pkgs/container/stemmus_scope-grpc4bmi) image is available in which the model as well as the Python BMI have been wrapped in a container. The Docker image is created using the Docker file [here](https://github.com/EcoExtreML/STEMMUS_SCOPE_Processing/blob/main/Dockerfile) and allows communication with a STEMMUS_SCOPE BMI through [grpc4bmi](https://grpc4bmi.readthedocs.io/en/latest/). Doing so avoids the needs to install PyStemmusScope yourself, only Docker/apptainer and a python environment with grpc4bmi are required. Please note you should not specify `DockerImage` or `ExeFilePath` in the config file if you are using the grpc4bmi interface. Only set the `STEMMUS_SCOPE` environmental variable with a path to the executable file. A demonstration is available [here](https://pystemmusscope.readthedocs.io/en/latest/notebooks/grpc4bmi_demo/).\n",
    "\n",
    "\n",
    "### Developer instructions\n",
    "\n",
    "Follow the instructions in the `Contributing Guide`."
   ]
  },
  {
   "cell_type": "markdown",
   "metadata": {},
   "source": []
  }
 ],
 "metadata": {
  "language_info": {
   "name": "python"
  }
 },
 "nbformat": 4,
 "nbformat_minor": 2
}
