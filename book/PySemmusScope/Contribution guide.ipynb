{
 "cells": [
  {
   "cell_type": "markdown",
   "metadata": {},
   "source": [
    "# Contribution guide"
   ]
  },
  {
   "cell_type": "markdown",
   "metadata": {},
   "source": [
    "We welcome any kind of contributions to our software, from simple comment or question to a full fledged [pull request](https://docs.github.com/en/pull-requests/collaborating-with-pull-requests/proposing-changes-to-your-work-with-pull-requests/about-pull-requests). Please read and follow our [Code of Conduct](https://pystemmusscope.readthedocs.io/en/latest/CODE_OF_CONDUCT/).\n",
    "\n",
    "\n",
    "A contribution can be one of the following cases:\n",
    "\n",
    "1. you have a question;\n",
    "   \n",
    "2. you think you may have found a bug (including unexpected behavior);\n",
    "   \n",
    "3. you want to make some kind of change to the code base (e.g. to fix a bug, to add a new feature, to update documentation).\n",
    "   \n",
    "4. you want to make a release\n",
    "\n",
    "The sections below outline the steps in each case."
   ]
  },
  {
   "cell_type": "markdown",
   "metadata": {},
   "source": [
    "## You have a question\n",
    "\n",
    "1. use the search functionality [here](https://github.com/EcoExtreML/STEMMUS_SCOPE_Processing/issues) to see if someone already filed the same issue;\n",
    "   \n",
    "2. if your issue search did not yield any relevant results, make a new issue;\n",
    "   \n",
    "3. apply the \\\"Question\\\" label; apply other labels when relevant."
   ]
  },
  {
   "cell_type": "markdown",
   "metadata": {},
   "source": [
    "## You think you may have found a bug\n",
    "\n",
    "1. use the search functionality [here](https://github.com/EcoExtreML/STEMMUS_SCOPE_Processing/issues) to see if someone already filed the same issue;\n",
    "   \n",
    "2. if your issue search did not yield any relevant results, make a new issue, making sure to provide enough information to the rest of the community to understand the cause and context of the problem. Depending on the issue, you may want to include: - the [SHA hashcode](https://docs.github.com/en/get-started/writing-on-github/working-with-advanced-formatting/autolinked-references-and-urls#commit-shas) of the commit that is causing your problem; - some identifying information (name and version number) for dependencies you\\'re using; - information about the operating system;\n",
    "   \n",
    "3. apply relevant labels to the newly created issue."
   ]
  },
  {
   "cell_type": "markdown",
   "metadata": {},
   "source": [
    "## You want to make some kind of change to the code base\n",
    "\n",
    "1. (important) announce your plan to the rest of the community before you start working. This announcement should be in the form of a (new) issue;\n",
    "   \n",
    "2. (important) wait until some kind of consensus is reached about your idea being a good idea;\n",
    "   \n",
    "3. if needed, fork the repository to your own Github profile and create your own feature branch off of the latest main commit. While working on your feature branch, make sure to stay up to date with the main branch by pulling in changes, possibly from the \\'upstream\\' repository (follow the instructions [here](https://docs.github.com/en/pull-requests/collaborating-with-pull-requests/working-with-forks/configuring-a-remote-repository-for-a-fork) and [here](https://docs.github.com/en/pull-requests/collaborating-with-pull-requests/working-with-forks/syncing-a-fork));\n",
    "   \n",
    "4. If you are using [Visual Studio Code](https://code.visualstudio.com/), some extensions will be recommended and you are offered to run inside a [DevContainer](https://containers.dev/) in which the dependencies are already installed;\n",
    "\n",
    "\n",
    "In case you feel like you\\'ve made a valuable contribution, but you don\\'t know how to write or run tests for it, or how to generate the documentation: don\\'t let this discourage you from making the pull request; we can help you! Just go ahead and submit the pull request, but keep in mind that you might be asked to append additional commits to your pull request.\n",
    "\n",
    "If you want to contribute to `PyStemmusScope`, we recommend installing the package in editable mode. The instructions below will guide you though the steps required.\n",
    "\n",
    "\n",
    "##### Dependencies\n",
    "\n",
    "Check the package `dependencies` and `optional dependencies` in the `pyproject.toml` file in the root directory of the repository. The package dependecies are those packages that are required to build the package as a software. The optional dependencies are those packages that are required to run the tests, build the documentation, and format the code.\n",
    "\n",
    "##### Installation in editable mode\n",
    "\n",
    "First, clone this repository:\n",
    "\n",
    "`git clone https://github.com/EcoExtreML/STEMMUS_SCOPE_Processing.git`\n",
    "\n",
    "Then install the package (On Windows, use `python` instead of `python3`):\n",
    "\n",
    "`cd STEMMUS_SCOPE_Processing`\n",
    "`python3 -m install -e .[dev]`\n",
    "\n",
    "##### Running tests\n",
    "\n",
    "The testing framework used here is [PyTest](). You can run tests as (On Windows, use `python` instead of `python3`):\n",
    "\n",
    "`python3 -m pytest`\n",
    "\n",
    "##### Building the documentation\n",
    "\n",
    "To install the documentation dependencies (On Windows, use `python` instead of `python3`):\n",
    "\n",
    "`cd STEMMUS_SCOPE_Processing`\n",
    "`python3 -m install -e .[docs]`\n",
    "\n",
    "To edit the documentation locally, do:\n",
    "\n",
    "`mkdocs serve`\n",
    "\n",
    "Then open the local hyperlink displayed in the terminal, e.g.:\n",
    "\n",
    "`INFO     -  [13:23:44] Serving on http://127.0.0.1:8000/`\n",
    "\n",
    "##### Run formatting tools\n",
    "\n",
    "Formatting configs are listed in the `pyproject.toml` file. You can use `ruff` to get information about errors, potential problems and convention violations. To run:\n",
    "\n",
    "`ruff check .`\n",
    "\n",
    "It is possible to fix some of the errors automatically. To do so, run:\n",
    "\n",
    "`ruff check --fix .`\n",
    "\n",
    "To format the import statements, you can use `isort` as:\n",
    "\n",
    "`isort`\n",
    "\n",
    "##### BMI Developer instructions\n",
    "\n",
    "The Python BMI implemented in this package communicates with the Matlab code through STDIN/STDOUT, or via a socket to the Docker container. Over this interface, three commands can be sent to Matlab:\n",
    "\n",
    "1. `initialize \"path_to_cfg_file.txt\"`\n",
    "2. `update`\n",
    "3. `finalize`\n",
    "\n",
    "After the initialize and update steps, the Matlab process writes the state of any BMI exposed variables to an hdf5-file in the directory of `OutputPath` as defined in the configuration file.\n",
    "\n",
    "The Python BMI interfaces with this file to allow the variables to be read and set.\n",
    "\n"
   ]
  },
  {
   "cell_type": "markdown",
   "metadata": {},
   "source": [
    "**Adding/changing exposed variables**\n",
    "\n",
    "Step one of changing the exposed variables is to change the Matlab code and generating a new MCR executable (and possibly Docker image). The exposed variables are defined in [STEMMUS_SCOPE/src/STEMMUS_SCOPE_exe.m](https://github.com/EcoExtreML/STEMMUS_SCOPE/blob/main/src/STEMMUS_SCOPE_exe.m). Under the `bmiVarNames` variable. Make sure that you add the model variable here, as well as any info on the variable's grid.\n",
    "\n",
    "The available variable names (`MODEL_INPUT_VARNAMES`, `MODEL_OUTPUT_VARNAMES`), their units (`VARNAME_UNITS`), datatypes (`VARNAME_DTYPE`) and grids (`VARNAME_GRID`) are defined in constants at the top of the file `PyStemmusScope/bmi/implementation.py`. These have to be updated to reflect the changes in the state file.\n",
    "\n",
    "Lastly you have to update the `get_variable` and `set_variable` functions in `PyStemmusScope/bmi/implementation.py`. Here you define how the python code can access them. While writing the code you can inspect the state using `model.state`, which allows you to view the full contents of the HDF5 file for easier debugging.\n",
    "\n",
    "After implementing the BMI changes, a new [STEMMUS_SCOPE Docker image](https://github.com/EcoExtreML/STEMMUS_SCOPE/pkgs/container/stemmus_scope) should be released that is compatible with the new BMI implementation. A new release usually includes a new tag. Then, you need to update the compatible_tags variable of the class `StemmusScopeDocker` in `PyStemmusScope/bmi/docker_process.py`."
   ]
  },
  {
   "cell_type": "markdown",
   "metadata": {},
   "source": [
    "**Making a release**\n",
    "\n",
    "This section describes how to make a release in 3 parts:\n",
    "\n",
    "1. preparation\n",
    "\n",
    "2. making a release on GitHub\n",
    "\n",
    "(1/2) Preparation\n",
    "\n",
    "1. Update the (don't forget to update links at bottom of page)\n",
    "   \n",
    "2. Verify that the information in `CITATION.cff` is correct, and that `.zenodo.json` contains equivalent data\n",
    "   \n",
    "3. Make sure the version has been updated.\n",
    "   \n",
    "4. Run the unit tests with `pytest -v`\n",
    "\n",
    "(2/2) GitHub\n",
    "\n",
    "Don't forget to also make a [release on GitHub](https://github.com/). This will trigger the github action `python-publish.yml` that publishes the package on PyPI. If your repository uses the GitHub-Zenodo integration this will also trigger Zenodo into making a snapshot of your repository and sticking a DOI on it."
   ]
  },
  {
   "cell_type": "markdown",
   "metadata": {},
   "source": []
  }
 ],
 "metadata": {
  "language_info": {
   "name": "python"
  }
 },
 "nbformat": 4,
 "nbformat_minor": 2
}
