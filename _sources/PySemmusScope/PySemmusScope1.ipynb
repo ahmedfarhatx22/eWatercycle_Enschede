{
 "cells": [
  {
   "cell_type": "markdown",
   "metadata": {},
   "source": [
    "# PySemmusScope (Python package for preprocessing model input data for 170 FLuxnet sites)"
   ]
  },
  {
   "cell_type": "markdown",
   "metadata": {},
   "source": []
  }
 ],
 "metadata": {
  "language_info": {
   "name": "python"
  }
 },
 "nbformat": 4,
 "nbformat_minor": 2
}
