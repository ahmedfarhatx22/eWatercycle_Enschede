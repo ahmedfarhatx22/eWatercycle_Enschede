{
 "cells": [
  {
   "cell_type": "markdown",
   "metadata": {},
   "source": [
    "# Introduction book "
   ]
  },
  {
   "cell_type": "markdown",
   "metadata": {},
   "source": [
    "The table of content where created in here according to the links given by dr. Yijian for the materials we intend to convert to a jupyter book from the Twente part. \n",
    "\n",
    "Question for dr. Yijian: \n",
    "- Can you please go through the table of content and let us know if you are okay with the topics we choose to create the book for? \n",
    "- Are there any other topics you would like to add to the book that are not yet there? \n",
    "- Are there any things you would like to remove from the current table of content? \n",
    "\n",
    "\n",
    "Please let us know by replying to the email dr. Rolf Huter will send you. \n",
    "\n",
    "\n",
    "Kind regards,\n",
    "eWaterCycle Team"
   ]
  },
  {
   "cell_type": "code",
   "execution_count": null,
   "metadata": {
    "vscode": {
     "languageId": "plaintext"
    }
   },
   "outputs": [],
   "source": []
  },
  {
   "cell_type": "code",
   "execution_count": null,
   "metadata": {
    "vscode": {
     "languageId": "plaintext"
    }
   },
   "outputs": [],
   "source": []
  },
  {
   "cell_type": "markdown",
   "metadata": {},
   "source": []
  }
 ],
 "metadata": {
  "language_info": {
   "name": "python"
  }
 },
 "nbformat": 4,
 "nbformat_minor": 2
}
