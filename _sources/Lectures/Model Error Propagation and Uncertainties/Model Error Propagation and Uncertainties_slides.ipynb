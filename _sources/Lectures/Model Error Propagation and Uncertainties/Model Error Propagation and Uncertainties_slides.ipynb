{
 "cells": [
  {
   "cell_type": "markdown",
   "metadata": {},
   "source": [
    "# Model Error Propagation and Uncertainties sildes"
   ]
  },
  {
   "cell_type": "markdown",
   "metadata": {},
   "source": [
    "write content here. add slides too?"
   ]
  },
  {
   "cell_type": "markdown",
   "metadata": {},
   "source": []
  }
 ],
 "metadata": {
  "language_info": {
   "name": "python"
  }
 },
 "nbformat": 4,
 "nbformat_minor": 2
}
