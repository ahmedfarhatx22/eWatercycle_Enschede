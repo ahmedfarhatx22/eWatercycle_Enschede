{
 "cells": [
  {
   "cell_type": "markdown",
   "metadata": {},
   "source": [
    "# Available recipes"
   ]
  },
  {
   "cell_type": "markdown",
   "metadata": {},
   "source": [
    "A recipe is a set of instructions for downloading and processing the input data (see [available datasets](Available%20datasets.ipynb)). Recipes are used to create pre-processing steps in a consistent and transparent way. Recipe format is usullay `.yml` and is stored in the [recipes folder](https://github.com/EcoExtreML/zampy/tree/main/recipes). To know how to run a recipe, see [Getting started](Getting%20started.ipynb). The following recipes are available:\n",
    "\n",
    "`STEMMUS_SCOPE_input.yml`: this recipe can be used to download and prepare some of the input data required by [STEMMUS_SCOPE model](https://github.com/EcoExtreML/STEMMUS_SCOPE)."
   ]
  }
 ],
 "metadata": {
  "language_info": {
   "name": "python"
  }
 },
 "nbformat": 4,
 "nbformat_minor": 2
}
