{
 "cells": [
  {
   "cell_type": "markdown",
   "metadata": {},
   "source": [
    "# Getting started"
   ]
  },
  {
   "cell_type": "markdown",
   "metadata": {},
   "source": [
    "## Zampy\n",
    "\n",
    "A tool for downloading Land Surface Model (LSM) input data.\n",
    "\n",
    "Named after Zam; [the Avestan language term for the Zoroastrian concept of \"earth\"](https://en.wikipedia.org/wiki/Zam).\n",
    "\n",
    "## Why using Zampy\n",
    "\n",
    "`zampy` is designed to retrieve data for LSM model input. It can help you prepare the data within the following steps:\n",
    "\n",
    "1. **Download** the data for the specified location(s) / geographical area.\n",
    "2. **Ingest** data into unified (zampy) format.\n",
    "3. **Load** the variables in a standardized way (standardized names & standardized units).\n",
    "4. **Convert** the data to standard formats:\n",
    "   \n",
    "   * ALMA / PLUMBER2's ALMA formatted netCDF.\n",
    "\n",
    "   * CMOR formatted netCDF.\n",
    "\n",
    "(Note: items in italic will not be worked on for now/low priority, but we want to allow space for these in the future.)\n",
    "\n",
    "\n",
    "## How to use Zampy\n",
    "\n",
    "To install and configure `zampy`, fist check [this guide](Configuration.ipynb) before continuing. Please also make sure that you have properly configured it following the guidelines.\n",
    "\n",
    "We recommend our users to use `zampy` with recipes.\n",
    "\n",
    "A \"recipe\" is a file with yml extension, it defines:\n",
    "  * which data to download:\n",
    "  * the time extent\n",
    "  * a spatial bounding box\n",
    "  * the datasets to be downloaded\n",
    "    * the variables within each dataset\n",
    "  * and data conversion to the desired:\n",
    "  * [convention](https://github.com/EcoExtreML/zampy/tree/main/src/zampy/conventions)\n",
    "  * time frequency\n",
    "  * spatial resolution\n",
    "\n",
    "A sample recipe is shown below:"
   ]
  },
  {
   "cell_type": "code",
   "execution_count": null,
   "metadata": {},
   "outputs": [],
   "source": [
    "name: \"test_recipe\"\n",
    "\n",
    "download:\n",
    "  time: [2020-01-01, 2020-01-31] # must follow the numpy.datetime64 format.\n",
    "  bbox: [54, 6, 50, 3] # NESW\n",
    "\n",
    "  datasets:\n",
    "    era5:\n",
    "      variables:\n",
    "        - eastward_component_of_wind\n",
    "        - surface_pressure\n",
    "\n",
    "    cams:\n",
    "      variables:\n",
    "        - co2_concentration\n",
    "\n",
    "convert:\n",
    "  convention: ALMA\n",
    "  frequency: 1H  # outputs at 1 hour frequency. Pandas-like freq-keyword.\n",
    "  resolution: 0.5  # output resolution in degrees."
   ]
  },
  {
   "cell_type": "markdown",
   "metadata": {},
   "source": [
    "You can specify multiple datasets and multiple variables per dataset. Information on the available datasets and their variables is shown [here](Available%20datasets.ipynb).\n",
    "\n",
    "When you have your reciped created and saved on your disk, you can execute your recipe by running the following code in your shell:"
   ]
  },
  {
   "cell_type": "code",
   "execution_count": null,
   "metadata": {},
   "outputs": [],
   "source": [
    "zampy /path_to_recipe/sample_recipe.yml"
   ]
  },
  {
   "cell_type": "markdown",
   "metadata": {},
   "source": [
    "!!! note"
   ]
  },
  {
   "cell_type": "code",
   "execution_count": null,
   "metadata": {},
   "outputs": [],
   "source": [
    "You may recieve an error message from CDS/ADS if not all the required\n",
    "licences have been accepted. Follow the instructions in the error message to\n",
    "accept the licences and run the recipe again."
   ]
  },
  {
   "cell_type": "markdown",
   "metadata": {},
   "source": [
    "When downloading process starts, you can also check the status of your requests in your CDS/ADS profile"
   ]
  },
  {
   "cell_type": "markdown",
   "metadata": {},
   "source": [
    "**Interact with `zampy` in notebooks**"
   ]
  },
  {
   "cell_type": "markdown",
   "metadata": {},
   "source": [
    "It is possible to use `zampy` directly in Python via its Python API. This is not recommended, as it is more difficult to reproduce the workflow if there is no recipe. As it is an internal API, python code can break without warning on new versions of Zampy. An example notebooks for each supported dataset is available [here](https://github.com/EcoExtreML/zampy/tree/main/demo).\n",
    "\n",
    "## Acknowledgements\n",
    "\n",
    "This package was developed by the Netherlands eScience Center. Development was supported by the Netherlands eScience Center under grant number NLESC.ASDI.2020.026."
   ]
  }
 ],
 "metadata": {
  "language_info": {
   "name": "python"
  }
 },
 "nbformat": 4,
 "nbformat_minor": 2
}
