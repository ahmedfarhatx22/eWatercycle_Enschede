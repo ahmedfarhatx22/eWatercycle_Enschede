{
 "cells": [
  {
   "cell_type": "markdown",
   "metadata": {},
   "source": [
    "# For developers"
   ]
  },
  {
   "cell_type": "markdown",
   "metadata": {},
   "source": [
    "If you're looking for user documentation, go [here](Getting%20started.ipynb).\n",
    "\n",
    "## Development install"
   ]
  },
  {
   "cell_type": "code",
   "execution_count": null,
   "metadata": {
    "vscode": {
     "languageId": "plaintext"
    }
   },
   "outputs": [],
   "source": [
    "# Create a virtual environment, e.g. with\n",
    "python3 -m venv env\n",
    "\n",
    "# activate virtual environment\n",
    "source env/bin/activate\n",
    "\n",
    "# make sure to have a recent version of pip and hatch\n",
    "python3 -m pip install --upgrade pip hatch\n",
    "\n",
    "# (from the project root directory)\n",
    "# install s2spy as an editable package\n",
    "python3 -m pip install --no-cache-dir --editable .\n",
    "# install development dependencies\n",
    "python3 -m pip install --no-cache-dir --editable .[dev]"
   ]
  },
  {
   "cell_type": "markdown",
   "metadata": {},
   "source": [
    "Afterwards check that the install directory is present in the `PATH` environment variable.\n",
    "\n",
    "## Running the tests\n",
    "\n",
    "Running tests has been configured using `hatch`, and can be started by running:"
   ]
  },
  {
   "cell_type": "code",
   "execution_count": null,
   "metadata": {
    "vscode": {
     "languageId": "plaintext"
    }
   },
   "outputs": [],
   "source": [
    "hatch run test"
   ]
  },
  {
   "cell_type": "markdown",
   "metadata": {},
   "source": [
    "The second is to use tox, which can be installed separately (e.g. with `pip install tox`), i.e. not necessarily inside the virtual environment you use for installing `zampy`, but then builds the necessary virtual environments itself by simply running:\n",
    "\n",
    "**Test coverage**\n",
    "\n",
    "In addition to just running the tests to see if they pass, they can be used for coverage statistics, i.e. to determine how much of the package's code is actually executed during tests. Inside the package directory, run:"
   ]
  },
  {
   "cell_type": "code",
   "execution_count": null,
   "metadata": {
    "vscode": {
     "languageId": "plaintext"
    }
   },
   "outputs": [],
   "source": [
    "hatch run coverage"
   ]
  },
  {
   "cell_type": "markdown",
   "metadata": {},
   "source": [
    "This runs tests and prints the results to the command line, as well as storing the result in a `coverage.xml` file (for analysis by, e.g. SonarCloud).\n",
    "\n",
    "## Running linters locally\n",
    "\n",
    "For linting we will use flake8, black and isort. We additionally use mypy to check the type hints. All tools can simply be run by doing:\n",
    "\n",
    "### linter"
   ]
  },
  {
   "cell_type": "markdown",
   "metadata": {},
   "source": [
    "hatch run lint"
   ]
  },
  {
   "cell_type": "markdown",
   "metadata": {},
   "source": [
    "To easily comply with `black` and `isort`, you can also run:"
   ]
  },
  {
   "cell_type": "code",
   "execution_count": null,
   "metadata": {},
   "outputs": [],
   "source": [
    "hatch run format"
   ]
  },
  {
   "cell_type": "markdown",
   "metadata": {},
   "source": [
    "This will apply the `black` and `isort` formatting, and then check the code style."
   ]
  },
  {
   "cell_type": "markdown",
   "metadata": {},
   "source": [
    "## Generating the documentation"
   ]
  },
  {
   "cell_type": "markdown",
   "metadata": {},
   "source": [
    "To generate the documentation, simply run the following command. This will also test the documentation code snippets. Note that you might need to install `pandoc` to be able to generate the documentation."
   ]
  },
  {
   "cell_type": "code",
   "execution_count": null,
   "metadata": {},
   "outputs": [],
   "source": [
    "hatch run docs:build"
   ]
  },
  {
   "cell_type": "markdown",
   "metadata": {},
   "source": [
    "The documentation will be in `docs/_build/html`.\n",
    "\n",
    "## Versioning\n",
    "\n",
    "Bumping the version across all files is done with [bump-my-version](https://github.com/callowayproject/bump-my-version), e.g.\n",
    "\n"
   ]
  },
  {
   "cell_type": "code",
   "execution_count": null,
   "metadata": {},
   "outputs": [],
   "source": [
    "bumpversion bump major\n",
    "bumpversion bump minor\n",
    "bumpversion bump patch"
   ]
  },
  {
   "cell_type": "markdown",
   "metadata": {},
   "source": [
    "## Making a release\n",
    "\n",
    "This section describes how to make a release in 3 parts: preparation, release and validation.\n",
    "\n",
    "**Preparation**\n",
    "\n",
    "1. Update the (don't forget to update links at bottom of page)\n",
    "2. Verify that the information in `CITATION.cff` is correct, and that `.zenodo.json` contains equivalent data\n",
    "3. Make sure the [version has been updated](#versioning).\n",
    "4. Run the unit tests with `hatch run test`\n",
    "\n",
    "**Making the GitHub release**\n",
    "\n",
    "Make a release and tag on GitHub.com. This will:\n",
    "\n",
    "* trigger Zenodo into making a snapshot of your repository and sticking a DOI on it.\n",
    "* start a GitHub action that builds and uploads the new version to [PyPI](https://pypi.org/project/zampy/).\n",
    "\n",
    "**Validation**\n",
    "\n",
    "After making the release, you should check that:\n",
    "\n",
    "* The [publishing action](https://github.com/EcoExtreML/zampy/.github/workflows/publish.yml) ran successfully, and that `pip install zampy` installs the new version."
   ]
  }
 ],
 "metadata": {
  "language_info": {
   "name": "python"
  }
 },
 "nbformat": 4,
 "nbformat_minor": 2
}
